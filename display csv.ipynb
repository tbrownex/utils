{
 "cells": [
  {
   "cell_type": "code",
   "execution_count": 2,
   "metadata": {
    "collapsed": true
   },
   "outputs": [],
   "source": [
    "#DATA_DIR = 'D:\\\\Dropbox (Personal)\\\\data\\\\LV\\\\SimpliSafe\\\\Initial project\\\\Processed data\\\\'\n",
    "#DATA_DIR = \"D:\\Dropbox (Personal)\\data\\LV\\CBG\\\\\"\n",
    "#FILENM   = 'cbg_spend.csv'\n",
    "DATA_DIR = \"C:\\\\Users\\\\tom\\\\Downloads\\\\\"\n",
    "FILENM   = 'cbg'"
   ]
  },
  {
   "cell_type": "code",
   "execution_count": 2,
   "metadata": {},
   "outputs": [
    {
     "name": "stdout",
     "output_type": "stream",
     "text": [
      "# of records: 220,334\n"
     ]
    }
   ],
   "source": [
    "filenm = DATA_DIR+FILENM\n",
    "\n",
    "f1 = open(filenm,'r')\n",
    "\n",
    "count=0\n",
    "\n",
    "for text in f1:\n",
    "    count += 1\n",
    "\n",
    "print('# of records: ' + '{:,}'.format(count))\n",
    "\n",
    "f1.close()"
   ]
  },
  {
   "cell_type": "code",
   "execution_count": 6,
   "metadata": {},
   "outputs": [],
   "source": [
    "import pandas as pd\n",
    "\n",
    "df = pd.read_csv(DATA_DIR+FILENM, sep=\",\", nrows=100)"
   ]
  },
  {
   "cell_type": "code",
   "execution_count": 7,
   "metadata": {},
   "outputs": [
    {
     "data": {
      "text/html": [
       "<div>\n",
       "<style>\n",
       "    .dataframe thead tr:only-child th {\n",
       "        text-align: right;\n",
       "    }\n",
       "\n",
       "    .dataframe thead th {\n",
       "        text-align: left;\n",
       "    }\n",
       "\n",
       "    .dataframe tbody tr th {\n",
       "        vertical-align: top;\n",
       "    }\n",
       "</style>\n",
       "<table border=\"1\" class=\"dataframe\">\n",
       "  <thead>\n",
       "    <tr style=\"text-align: right;\">\n",
       "      <th></th>\n",
       "      <th>60372372023\tCA\t0106000020E6100000010000000103000000010000001000000040E93F16A2935DC0501B2A0307FE4040AC1E0E12A2935DC050BA42B115FE40408089AA09A2935DC0D0315A9C31FE404058F44601A2935DC0A8CAF4A44CFE40409409C11F7E935DC0D0E0027B4CFE40407892D6355A935DC000F710514CFE404038F26B425A935DC050F3D95031FE40408C1C33535A935DC0D07BC26515FE404080BA955B5A935DC02886C6FA06FE4040AC4FF9635A935DC0E88BBAB9F8FD4040007AC0745A935DC090A46C1ADBFD404058A487855A935DC010A710A5BDFD404020F1AA5E7E935DC0C0FB9EC6BDFD4040C0A86A2FA2935DC090E590F0BDFD40400049D522A2935DC0680F0912DBFD404040E93F16A2935DC0501B2A0307FE4040\tLOS ANGELES\t0101000020E61000008AAB373A7E935DC00BAD152805FE4040\t-118.304579309812\t33.9845323663559</th>\n",
       "    </tr>\n",
       "  </thead>\n",
       "  <tbody>\n",
       "    <tr>\n",
       "      <th>0</th>\n",
       "      <td>51190042011\\tAR\\t0106000020E610000001000000010...</td>\n",
       "    </tr>\n",
       "    <tr>\n",
       "      <th>1</th>\n",
       "      <td>51190042012\\tAR\\t0106000020E610000001000000010...</td>\n",
       "    </tr>\n",
       "    <tr>\n",
       "      <th>2</th>\n",
       "      <td>51190042071\\tAR\\t0106000020E610000001000000010...</td>\n",
       "    </tr>\n",
       "    <tr>\n",
       "      <th>3</th>\n",
       "      <td>51190042022\\tAR\\t0106000020E610000001000000010...</td>\n",
       "    </tr>\n",
       "    <tr>\n",
       "      <th>4</th>\n",
       "      <td>51190040063\\tAR\\t0106000020E610000001000000010...</td>\n",
       "    </tr>\n",
       "  </tbody>\n",
       "</table>\n",
       "</div>"
      ],
      "text/plain": [
       "  60372372023\\tCA\\t0106000020E6100000010000000103000000010000001000000040E93F16A2935DC0501B2A0307FE4040AC1E0E12A2935DC050BA42B115FE40408089AA09A2935DC0D0315A9C31FE404058F44601A2935DC0A8CAF4A44CFE40409409C11F7E935DC0D0E0027B4CFE40407892D6355A935DC000F710514CFE404038F26B425A935DC050F3D95031FE40408C1C33535A935DC0D07BC26515FE404080BA955B5A935DC02886C6FA06FE4040AC4FF9635A935DC0E88BBAB9F8FD4040007AC0745A935DC090A46C1ADBFD404058A487855A935DC010A710A5BDFD404020F1AA5E7E935DC0C0FB9EC6BDFD4040C0A86A2FA2935DC090E590F0BDFD40400049D522A2935DC0680F0912DBFD404040E93F16A2935DC0501B2A0307FE4040\\tLOS ANGELES\\t0101000020E61000008AAB373A7E935DC00BAD152805FE4040\\t-118.304579309812\\t33.9845323663559\n",
       "0  51190042011\\tAR\\t0106000020E610000001000000010...                                                                                                                                                                                                                                                                                                                                                                                                                                                                                                                                                                                                                                                         \n",
       "1  51190042012\\tAR\\t0106000020E610000001000000010...                                                                                                                                                                                                                                                                                                                                                                                                                                                                                                                                                                                                                                                         \n",
       "2  51190042071\\tAR\\t0106000020E610000001000000010...                                                                                                                                                                                                                                                                                                                                                                                                                                                                                                                                                                                                                                                         \n",
       "3  51190042022\\tAR\\t0106000020E610000001000000010...                                                                                                                                                                                                                                                                                                                                                                                                                                                                                                                                                                                                                                                         \n",
       "4  51190040063\\tAR\\t0106000020E610000001000000010...                                                                                                                                                                                                                                                                                                                                                                                                                                                                                                                                                                                                                                                         "
      ]
     },
     "execution_count": 7,
     "metadata": {},
     "output_type": "execute_result"
    }
   ],
   "source": [
    "df.head()"
   ]
  },
  {
   "cell_type": "code",
   "execution_count": 16,
   "metadata": {},
   "outputs": [
    {
     "data": {
      "text/html": [
       "<div>\n",
       "<table border=\"1\" class=\"dataframe\">\n",
       "  <thead>\n",
       "    <tr style=\"text-align: right;\">\n",
       "      <th></th>\n",
       "      <th>Last Name</th>\n",
       "      <th>Street</th>\n",
       "      <th>City</th>\n",
       "      <th>State</th>\n",
       "    </tr>\n",
       "  </thead>\n",
       "  <tbody>\n",
       "    <tr>\n",
       "      <th>0</th>\n",
       "      <td>LAURANS</td>\n",
       "      <td>17 HAWES ST</td>\n",
       "      <td>BROOKLINE</td>\n",
       "      <td>MA</td>\n",
       "    </tr>\n",
       "    <tr>\n",
       "      <th>1</th>\n",
       "      <td>ENGEL</td>\n",
       "      <td>39 OXFORD ST</td>\n",
       "      <td>BELMONT</td>\n",
       "      <td>MA</td>\n",
       "    </tr>\n",
       "    <tr>\n",
       "      <th>2</th>\n",
       "      <td>GUST</td>\n",
       "      <td>4001 S BUSINESS PARK AVE</td>\n",
       "      <td>MARSHFIELD</td>\n",
       "      <td>WI</td>\n",
       "    </tr>\n",
       "    <tr>\n",
       "      <th>3</th>\n",
       "      <td>IRWIN</td>\n",
       "      <td>4001 S BUSINESS PARK AVE</td>\n",
       "      <td>MARSHFIELD</td>\n",
       "      <td>WI</td>\n",
       "    </tr>\n",
       "    <tr>\n",
       "      <th>4</th>\n",
       "      <td>PHIPPS</td>\n",
       "      <td>7480 FLYING CLOUD DR STE 100</td>\n",
       "      <td>EDEN PRAIRIE</td>\n",
       "      <td>MN</td>\n",
       "    </tr>\n",
       "  </tbody>\n",
       "</table>\n",
       "</div>"
      ],
      "text/plain": [
       "  Last Name                        Street          City State\n",
       "0   LAURANS                   17 HAWES ST     BROOKLINE    MA\n",
       "1     ENGEL                  39 OXFORD ST       BELMONT    MA\n",
       "2      GUST      4001 S BUSINESS PARK AVE    MARSHFIELD    WI\n",
       "3     IRWIN      4001 S BUSINESS PARK AVE    MARSHFIELD    WI\n",
       "4    PHIPPS  7480 FLYING CLOUD DR STE 100  EDEN PRAIRIE    MN"
      ]
     },
     "execution_count": 16,
     "metadata": {},
     "output_type": "execute_result"
    }
   ],
   "source": [
    "df.head()"
   ]
  },
  {
   "cell_type": "code",
   "execution_count": 5,
   "metadata": {
    "collapsed": true
   },
   "outputs": [],
   "source": [
    "df = df.drop_duplicates()"
   ]
  },
  {
   "cell_type": "code",
   "execution_count": 6,
   "metadata": {},
   "outputs": [
    {
     "data": {
      "text/plain": [
       "(1581392, 4)"
      ]
     },
     "execution_count": 6,
     "metadata": {},
     "output_type": "execute_result"
    }
   ],
   "source": [
    "df.shape"
   ]
  },
  {
   "cell_type": "code",
   "execution_count": 7,
   "metadata": {},
   "outputs": [
    {
     "data": {
      "text/html": [
       "<div>\n",
       "<table border=\"1\" class=\"dataframe\">\n",
       "  <thead>\n",
       "    <tr style=\"text-align: right;\">\n",
       "      <th></th>\n",
       "      <th>Last Name</th>\n",
       "      <th>Street</th>\n",
       "      <th>City</th>\n",
       "      <th>State</th>\n",
       "    </tr>\n",
       "  </thead>\n",
       "  <tbody>\n",
       "    <tr>\n",
       "      <th>0</th>\n",
       "      <td>LAURANS</td>\n",
       "      <td>17 HAWES ST</td>\n",
       "      <td>BROOKLINE</td>\n",
       "      <td>MA</td>\n",
       "    </tr>\n",
       "    <tr>\n",
       "      <th>2</th>\n",
       "      <td>ENGEL</td>\n",
       "      <td>39 OXFORD ST</td>\n",
       "      <td>BELMONT</td>\n",
       "      <td>MA</td>\n",
       "    </tr>\n",
       "    <tr>\n",
       "      <th>4</th>\n",
       "      <td>GUST</td>\n",
       "      <td>4001 S BUSINESS PARK AVE</td>\n",
       "      <td>MARSHFIELD</td>\n",
       "      <td>WI</td>\n",
       "    </tr>\n",
       "    <tr>\n",
       "      <th>6</th>\n",
       "      <td>IRWIN</td>\n",
       "      <td>4001 S BUSINESS PARK AVE</td>\n",
       "      <td>MARSHFIELD</td>\n",
       "      <td>WI</td>\n",
       "    </tr>\n",
       "    <tr>\n",
       "      <th>8</th>\n",
       "      <td>PHIPPS</td>\n",
       "      <td>7480 FLYING CLOUD DR STE 100</td>\n",
       "      <td>EDEN PRAIRIE</td>\n",
       "      <td>MN</td>\n",
       "    </tr>\n",
       "  </tbody>\n",
       "</table>\n",
       "</div>"
      ],
      "text/plain": [
       "  Last Name                        Street          City State\n",
       "0   LAURANS                   17 HAWES ST     BROOKLINE    MA\n",
       "2     ENGEL                  39 OXFORD ST       BELMONT    MA\n",
       "4      GUST      4001 S BUSINESS PARK AVE    MARSHFIELD    WI\n",
       "6     IRWIN      4001 S BUSINESS PARK AVE    MARSHFIELD    WI\n",
       "8    PHIPPS  7480 FLYING CLOUD DR STE 100  EDEN PRAIRIE    MN"
      ]
     },
     "execution_count": 7,
     "metadata": {},
     "output_type": "execute_result"
    }
   ],
   "source": [
    "df.head()"
   ]
  },
  {
   "cell_type": "code",
   "execution_count": 9,
   "metadata": {
    "collapsed": true
   },
   "outputs": [],
   "source": [
    "df.to_csv(\"C:\\\\Users\\\\Tom Browne\\\\ss_notfound.csv\", sep=\",\", index=False)"
   ]
  },
  {
   "cell_type": "code",
   "execution_count": null,
   "metadata": {
    "collapsed": true
   },
   "outputs": [],
   "source": []
  }
 ],
 "metadata": {
  "anaconda-cloud": {},
  "kernelspec": {
   "display_name": "Python 3",
   "language": "python",
   "name": "python3"
  },
  "language_info": {
   "codemirror_mode": {
    "name": "ipython",
    "version": 3
   },
   "file_extension": ".py",
   "mimetype": "text/x-python",
   "name": "python",
   "nbconvert_exporter": "python",
   "pygments_lexer": "ipython3",
   "version": "3.5.3"
  }
 },
 "nbformat": 4,
 "nbformat_minor": 1
}
