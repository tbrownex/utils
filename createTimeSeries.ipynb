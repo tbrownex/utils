{
 "cells": [
  {
   "cell_type": "code",
   "execution_count": 1,
   "metadata": {},
   "outputs": [],
   "source": [
    "import random\n",
    "tm.K = 3\n",
    "cats = [\"Fishing\", \"Pool\", \"Golf\"]\n",
    "types = [\"in-store\", \"online\"]"
   ]
  },
  {
   "cell_type": "code",
   "execution_count": 2,
   "metadata": {},
   "outputs": [],
   "source": [
    "dfList = []\n",
    "for x in range(5):\n",
    "    df = tm.makeTimeDataFrame(nper=10)\n",
    "    df.columns = [\"Category\", \"SubCategory\", \"Sales\"]\n",
    "    df[\"Sales\"] = [np.random.randint(low=0, high=10) for n in range(10)]\n",
    "    df[\"Category\"] = [random.choice(cats) for n in range(10)]\n",
    "    df[\"SubCategory\"] = [random.choice(types) for n in range(10)]\n",
    "    dfList.append(df)"
   ]
  },
  {
   "cell_type": "code",
   "execution_count": 3,
   "metadata": {},
   "outputs": [],
   "source": [
    "df = pd.concat(dfList)"
   ]
  },
  {
   "cell_type": "code",
   "execution_count": 4,
   "metadata": {},
   "outputs": [],
   "source": [
    "df.sort_index(inplace=True)"
   ]
  },
  {
   "cell_type": "code",
   "execution_count": 5,
   "metadata": {},
   "outputs": [],
   "source": [
    "df.to_csv(\"/home/tbrownex/alteryxData.csv\")"
   ]
  },
  {
   "cell_type": "code",
   "execution_count": 65,
   "metadata": {},
   "outputs": [],
   "source": [
    "tm.K = 2\n",
    "size = 100\n",
    "cols = [\"Type\", \"Value\"]\n",
    "df1 = tm.makeTimeDataFrame(nper=size)\n",
    "df1.columns = cols\n",
    "df1[\"Type\"] = \"A\"\n",
    "df1[\"Value\"] = [np.sin(0.7*x) for x in range(size)]\n",
    "df1[\"Value\"] += np.random.normal(loc=0, scale=0.4)\n",
    "\n",
    "df2 = tm.makeTimeDataFrame(nper=size)\n",
    "df2.columns = cols\n",
    "df2[\"Type\"] = \"B\"\n",
    "df2[\"Value\"] = [np.sin(1.3*x) for x in range(size)]\n",
    "df2[\"Value\"] += np.random.normal(loc=0, scale=0.2)\n",
    "\n",
    "df = pd.concat([df1,df2])\n",
    "\n",
    "df.to_csv(\"/home/tbrownex/alteryxData.csv\")"
   ]
  },
  {
   "cell_type": "code",
   "execution_count": null,
   "metadata": {},
   "outputs": [],
   "source": []
  }
 ],
 "metadata": {
  "kernelspec": {
   "display_name": "Python 3",
   "language": "python",
   "name": "python3"
  },
  "language_info": {
   "codemirror_mode": {
    "name": "ipython",
    "version": 3
   },
   "file_extension": ".py",
   "mimetype": "text/x-python",
   "name": "python",
   "nbconvert_exporter": "python",
   "pygments_lexer": "ipython3",
   "version": "3.5.2"
  }
 },
 "nbformat": 4,
 "nbformat_minor": 2
}
