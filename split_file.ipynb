{
 "cells": [
  {
   "cell_type": "code",
   "execution_count": 4,
   "metadata": {},
   "outputs": [
    {
     "name": "stdout",
     "output_type": "stream",
     "text": [
      "How many parts should be created?10\n"
     ]
    }
   ],
   "source": [
    "loc = \"/home/tbrownex/data/test/cpu/\"\n",
    "filenm = \"data.csv\"\n",
    "x = input(\"How many parts should be created?\")"
   ]
  },
  {
   "cell_type": "code",
   "execution_count": 5,
   "metadata": {},
   "outputs": [],
   "source": [
    "num_parts = int(x)"
   ]
  },
  {
   "cell_type": "code",
   "execution_count": 6,
   "metadata": {},
   "outputs": [],
   "source": [
    "filenm = loc + filenm\n",
    "f1 = open(filenm,'r')"
   ]
  },
  {
   "cell_type": "code",
   "execution_count": 7,
   "metadata": {},
   "outputs": [],
   "source": [
    "# Get the number of rows\n",
    "count = 0\n",
    "for text in f1:\n",
    "    count += 1\n",
    "num_rec = count / num_parts\n",
    "f1.close()\n",
    "f1 = open(filenm,'r')"
   ]
  },
  {
   "cell_type": "code",
   "execution_count": 8,
   "metadata": {},
   "outputs": [],
   "source": [
    "for x in range(num_parts):\n",
    "    out = open(loc + 'subset' + str(x) + '.csv', 'w')\n",
    "    count = 0\n",
    "    while count < num_rec:\n",
    "        text = f1.readline()\n",
    "        out.write(text)\n",
    "        count += 1\n",
    "    out.close()"
   ]
  },
  {
   "cell_type": "code",
   "execution_count": 9,
   "metadata": {},
   "outputs": [],
   "source": [
    "f1.close()"
   ]
  },
  {
   "cell_type": "code",
   "execution_count": null,
   "metadata": {},
   "outputs": [],
   "source": []
  }
 ],
 "metadata": {
  "kernelspec": {
   "display_name": "Python 3",
   "language": "python",
   "name": "python3"
  },
  "language_info": {
   "codemirror_mode": {
    "name": "ipython",
    "version": 3
   },
   "file_extension": ".py",
   "mimetype": "text/x-python",
   "name": "python",
   "nbconvert_exporter": "python",
   "pygments_lexer": "ipython3",
   "version": "3.5.2"
  }
 },
 "nbformat": 4,
 "nbformat_minor": 1
}
