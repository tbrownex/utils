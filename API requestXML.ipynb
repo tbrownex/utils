{
 "cells": [
  {
   "cell_type": "code",
   "execution_count": 1,
   "metadata": {
    "collapsed": false
   },
   "outputs": [],
   "source": [
    "# Call an API; receive XML in response; parse the XML\n",
    "# He\n",
    "import requests\n",
    "from bs4 import BeautifulSoup"
   ]
  },
  {
   "cell_type": "code",
   "execution_count": 6,
   "metadata": {
    "collapsed": false
   },
   "outputs": [
    {
     "name": "stdout",
     "output_type": "stream",
     "text": [
      "Cumberland\n"
     ]
    }
   ],
   "source": [
    "url = 'http://data.fcc.gov/api/block/find?'\n",
    "payload = {'latitude': '40.26054000000', 'longitude': '-76.9376700000'}\n",
    "r = requests.get(url, params=payload)\n",
    "if r.status_code == 200:\n",
    "    soup = BeautifulSoup(r.text, \"xml\")\n",
    "    print(soup.County[\"name\"])\n",
    "else:\n",
    "    r.raise_for_status()"
   ]
  },
  {
   "cell_type": "code",
   "execution_count": null,
   "metadata": {
    "collapsed": true
   },
   "outputs": [],
   "source": [
    "\n"
   ]
  }
 ],
 "metadata": {
  "kernelspec": {
   "display_name": "Python 2",
   "language": "python",
   "name": "python2"
  },
  "language_info": {
   "codemirror_mode": {
    "name": "ipython",
    "version": 2
   },
   "file_extension": ".py",
   "mimetype": "text/x-python",
   "name": "python",
   "nbconvert_exporter": "python",
   "pygments_lexer": "ipython2",
   "version": "2.7.11"
  }
 },
 "nbformat": 4,
 "nbformat_minor": 0
}
