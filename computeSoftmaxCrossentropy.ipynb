{
 "cells": [
  {
   "cell_type": "code",
   "execution_count": 91,
   "metadata": {},
   "outputs": [],
   "source": [
    "def getData():\n",
    "    X = np.array([0.1, 0.4, 0.4, 1.5, 0])\n",
    "    y = np.array([0,0,0,1,0])\n",
    "    assert X.shape[0]==y.shape[0], \"length mismatch\"\n",
    "    return X,y"
   ]
  },
  {
   "cell_type": "code",
   "execution_count": 92,
   "metadata": {},
   "outputs": [],
   "source": [
    "def softmax(X):\n",
    "    exps = np.exp(X)\n",
    "    return exps / np.sum(exps)"
   ]
  },
  {
   "cell_type": "code",
   "execution_count": 93,
   "metadata": {},
   "outputs": [],
   "source": [
    "def crossEntropy(preds,y):\n",
    "    \"\"\"\n",
    "    X is the output from softmax\n",
    "    y is labels, one-hot encoded\n",
    "    \"\"\"\n",
    "    logLikelihood = -np.sum(y*np.log(predictions))\n",
    "    return logLikelihood"
   ]
  },
  {
   "cell_type": "code",
   "execution_count": 94,
   "metadata": {},
   "outputs": [],
   "source": [
    "X,y = getData()\n",
    "predictions = softmax(X)\n",
    "xentropy = crossEntropy(predictions, y)"
   ]
  },
  {
   "cell_type": "code",
   "execution_count": 95,
   "metadata": {},
   "outputs": [
    {
     "name": "stdout",
     "output_type": "stream",
     "text": [
      "mean cross entropy is 0.152\n"
     ]
    }
   ],
   "source": [
    "print(\"mean cross entropy is {:.3f}\".format(xentropy/X.shape[0]))"
   ]
  },
  {
   "cell_type": "code",
   "execution_count": null,
   "metadata": {},
   "outputs": [],
   "source": []
  }
 ],
 "metadata": {
  "kernelspec": {
   "display_name": "Python 3",
   "language": "python",
   "name": "python3"
  },
  "language_info": {
   "codemirror_mode": {
    "name": "ipython",
    "version": 3
   },
   "file_extension": ".py",
   "mimetype": "text/x-python",
   "name": "python",
   "nbconvert_exporter": "python",
   "pygments_lexer": "ipython3",
   "version": "3.5.2"
  }
 },
 "nbformat": 4,
 "nbformat_minor": 2
}
