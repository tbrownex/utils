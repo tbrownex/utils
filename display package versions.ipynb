{
 "cells": [
  {
   "cell_type": "code",
   "execution_count": 1,
   "metadata": {},
   "outputs": [
    {
     "name": "stdout",
     "output_type": "stream",
     "text": [
      "System:  ('64bit', 'ELF')\n",
      "Python: 3.8.10 (default, Jun 22 2022, 20:18:18) \n",
      "[GCC 9.4.0 \n",
      "\n",
      "PACKAGE     VERSION\n",
      "pandas      1.2.3\n",
      "sklearn     0.24.1\n",
      "numPy       1.22.4\n",
      "sciPy       1.7.3\n",
      "matplotlib  3.4.2\n",
      "\n",
      "*****************************\n",
      "tensorflow  2.9.1\n",
      "keras       2.9.0\n",
      "*****************************\n",
      "Java: openjdk version \"11.0.15\" 2022-04-19\n"
     ]
    }
   ],
   "source": [
    "import sys\n",
    "import subprocess\n",
    "import pkg_resources\n",
    "import platform\n",
    "\n",
    "import pandas as pd\n",
    "import numpy as np\n",
    "import scipy\n",
    "import matplotlib\n",
    "import sklearn.feature_selection\n",
    "\n",
    "print('System: ', platform.architecture())\n",
    "\n",
    "python = sys.version\n",
    "print('Python: {}'.format(python[:python.find('|')]), '\\n')\n",
    "\n",
    "print('{:<12}{}'.format('PACKAGE', 'VERSION'))\n",
    "print(\"{:<12}{}\".format(\"pandas\", pd.__version__))\n",
    "print(\"{:<12}{}\".format(\"sklearn\", sklearn.__version__))\n",
    "print(\"{:<12}{}\".format(\"numPy\", np.__version__))\n",
    "print(\"{:<12}{}\".format(\"sciPy\", scipy.__version__))\n",
    "print(\"{:<12}{}\".format(\"matplotlib\", matplotlib.__version__))\n",
    "print('')\n",
    "print('*****************************')\n",
    "\n",
    "import tensorflow as tf\n",
    "print(\"{:<12}{}\".format(\"tensorflow\", pkg_resources.get_distribution(\"tensorflow\").version))\n",
    "from tensorflow import keras\n",
    "print(\"{:<12}{}\".format(\"keras\", tf.keras.__version__))\n",
    "\n",
    "print('*****************************')\n",
    "java = subprocess.check_output([\"java\", \"-version\"], stderr=subprocess.STDOUT).decode(\"utf-8\")\n",
    "print(\"Java: {}\".format(java[:java.find('\\n')]))"
   ]
  },
  {
   "cell_type": "code",
   "execution_count": 2,
   "metadata": {},
   "outputs": [],
   "source": [
    "#spark = subprocess.check_output([\"spark-submit\", \"-version\"], stderr=subprocess.STDOUT).decode(\"utf-8\")"
   ]
  },
  {
   "cell_type": "code",
   "execution_count": 3,
   "metadata": {},
   "outputs": [
    {
     "data": {
      "text/plain": [
       "'hadoop = subprocess.check_output([\"/usr/local/hadoop/bin/hadoop\", \"version\"]).decode(\"utf-8\")\\nidx = hadoop.find(\\' \\')\\nprint(\\'Hadoop version: {}\\'.format(hadoop[idx+1:idx+7]))'"
      ]
     },
     "execution_count": 3,
     "metadata": {},
     "output_type": "execute_result"
    }
   ],
   "source": [
    "'''hadoop = subprocess.check_output([\"/usr/local/hadoop/bin/hadoop\", \"version\"]).decode(\"utf-8\")\n",
    "idx = hadoop.find(' ')\n",
    "print('Hadoop version: {}'.format(hadoop[idx+1:idx+7]))'''"
   ]
  }
 ],
 "metadata": {
  "anaconda-cloud": {},
  "kernelspec": {
   "display_name": "tensorflow",
   "language": "python",
   "name": "tensorflow"
  },
  "language_info": {
   "codemirror_mode": {
    "name": "ipython",
    "version": 3
   },
   "file_extension": ".py",
   "mimetype": "text/x-python",
   "name": "python",
   "nbconvert_exporter": "python",
   "pygments_lexer": "ipython3",
   "version": "3.8.10"
  }
 },
 "nbformat": 4,
 "nbformat_minor": 1
}
