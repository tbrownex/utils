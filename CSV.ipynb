{
 "cells": [
  {
   "cell_type": "code",
   "execution_count": null,
   "metadata": {},
   "outputs": [],
   "source": [
    "import csv\n",
    "import os"
   ]
  },
  {
   "cell_type": "code",
   "execution_count": null,
   "metadata": {},
   "outputs": [],
   "source": [
    "def count(input_file):\n",
    "    count = 0\n",
    "    with open(input_file, \"r\") as f:\n",
    "        for rec in f: count +=1\n",
    "    return count\n",
    "\n",
    "def displayRaw(input_file):\n",
    "    with open(input_file, \"r\") as f:\n",
    "        for rec in f:\n",
    "            print(rec)\n",
    "            input()\n",
    "\n",
    "def displayFields(input_file, delim):\n",
    "    with open(input_file, \"r\") as f:\n",
    "        reader = csv.DictReader(f, delimiter=delim)\n",
    "        for rec in reader:\n",
    "            print(rec)\n",
    "            input()\n",
    "\n",
    "def displayFields(input_file, delim):\n",
    "    with open(input_file, \"r\") as f:\n",
    "        reader = csv.DictReader(f, delimiter=delim)\n",
    "        for rec in reader:\n",
    "            k = sorted(rec.keys())\n",
    "            for x in k:\n",
    "                print(x, \": \",rec[x])\n",
    "            input()"
   ]
  },
  {
   "cell_type": "code",
   "execution_count": null,
   "metadata": {},
   "outputs": [],
   "source": [
    "LOC = '/home/tbrownex/data/Hackett/demos/HR/tom/'\n",
    "FILE = \"data.csv\"\n",
    "total = count(LOC+FILE)\n",
    "print(\"{:,.0f}\".format(total))"
   ]
  },
  {
   "cell_type": "code",
   "execution_count": null,
   "metadata": {
    "scrolled": true
   },
   "outputs": [],
   "source": [
    "#LOC = '/home/tbrownex/data/Hackett/JLP/'\n",
    "#FILE = \"10_Treatment_Stores_by_OLG.csv\"\n",
    "displayRaw(LOC+FILE)"
   ]
  },
  {
   "cell_type": "code",
   "execution_count": null,
   "metadata": {},
   "outputs": [],
   "source": [
    "#LOC = \"/mnt/disks/data/infousa/\"\n",
    "#FILE = \"3c smarty_final.csv\"\n",
    "displayFields(LOC+FILE, \",\")"
   ]
  },
  {
   "cell_type": "code",
   "execution_count": null,
   "metadata": {},
   "outputs": [],
   "source": []
  }
 ],
 "metadata": {
  "kernelspec": {
   "display_name": "Python 3",
   "language": "python",
   "name": "python3"
  },
  "language_info": {
   "codemirror_mode": {
    "name": "ipython",
    "version": 3
   },
   "file_extension": ".py",
   "mimetype": "text/x-python",
   "name": "python",
   "nbconvert_exporter": "python",
   "pygments_lexer": "ipython3",
   "version": "3.5.2"
  }
 },
 "nbformat": 4,
 "nbformat_minor": 2
}
