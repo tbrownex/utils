{
 "cells": [
  {
   "cell_type": "code",
   "execution_count": 4,
   "metadata": {},
   "outputs": [],
   "source": [
    "import csv\n",
    "import os"
   ]
  },
  {
   "cell_type": "code",
   "execution_count": 5,
   "metadata": {},
   "outputs": [],
   "source": [
    "def count(input_file):\n",
    "    count = 0\n",
    "    with open(input_file, \"r\") as f:\n",
    "        for rec in f: count +=1\n",
    "    return count\n",
    "\n",
    "def displayRaw(input_file):\n",
    "    with open(input_file, \"r\") as f:\n",
    "        for rec in f:\n",
    "            print(rec)\n",
    "            input()\n",
    "\n",
    "def displayFields(input_file, delim):\n",
    "    with open(input_file, \"r\") as f:\n",
    "        reader = csv.DictReader(f, delimiter=delim)\n",
    "        for rec in reader:\n",
    "            print(rec)\n",
    "            input()\n",
    "\n",
    "def displayFields(input_file, delim):\n",
    "    with open(input_file, \"r\") as f:\n",
    "        reader = csv.DictReader(f, delimiter=delim)\n",
    "        for rec in reader:\n",
    "            k = sorted(rec.keys())\n",
    "            for x in k:\n",
    "                print(x, \": \",rec[x])\n",
    "            input()"
   ]
  },
  {
   "cell_type": "code",
   "execution_count": null,
   "metadata": {},
   "outputs": [],
   "source": [
    "LOC = '/mnt/disks/data/infousa/'\n",
    "FILE = \"3c smarty_final.csv\"\n",
    "total = count(LOC+FILE)\n",
    "print(\"{:,.0f}\".format(total))"
   ]
  },
  {
   "cell_type": "code",
   "execution_count": 3,
   "metadata": {},
   "outputs": [
    {
     "name": "stdout",
     "output_type": "stream",
     "text": [
      "hh_num,street,city,county,state,zip,age,income,marital_status,address_type,owner_type,home_value,dm_response,num_adults,num_hh,num_kids,net_worth,age_0_3,age_4_7,age_8_12,age_13_17,latitude,longitude,First Name1,Last Name1,Gender1,Age1,Marital status1,DNC1,DNM1,Religion1,Ethnic1,First Name2,Last Name2,Gender2,Age2,Marital status2,First Name3,Last Name3,Gender3,Age3,Marital status3,First Name4,Last Name4,Gender4,Age4,Marital status4,density,length_of_residence,purchasing_power_income,ppir,email_presence,surname_count,sub_family,home_age,second_property_ind,second_property_value,revolver_model,purchasing_power,expendable_income,potential_investor,mortgage_expense,income_producing_assets,discretionary_income,cluster,supercluster,home_equity,vacation_expense,lifestyle_gambling_interest,lifestyle_gambling,heavy_coupon,heavy_family_restaurant,heavy_frozen_buyer,luxury_car_buyer,mail_order_buyer,dm_response_ever,dm_response_recent,presence_grandparents,presence_children,child_dob_1,child_dob_2,child_dob_3,child_dob_4,child_dob_5,ailment_diabetes,ailment_cholesterol,hh_income,room_count,home_sale_dt,home_size,home_val_code,ltv,dma,mortgage_amount,mortgage_year,nielsen_rank,nielsen_region,fullfillment,full_name,zip4,lux_hotel,suv_buyer,lot_size,smarty\n",
      "\n",
      "\n",
      "000400603974,2171 Dothan Rd,White River Junction,Windsor,VT,05001-9378,G,L,7,S,9,00315,Y,2,2,0,H,N,N,N,N,0043.694087,-0072.345168,MICHEL,AUBE,M,50,M,\" \",\" \",C,W,GABRIELLE,AUBE,F,38,M,,,\" \",\"  \",\" \",,,\" \",\"  \",\" \",\"   475.11\",15,3,K,N,1,N,012,N,00000,08,145000,B,03,1283,E,91,05,3,K,4,N,0,6,1,0,2,Y,Y,N,N,N,\"        \",\"        \",\"        \",\"        \",\"        \",N,N,4,08,20030615,00000,K,H,523,\" \",2003,C,E,M,MICHEL  AUBE,9378,7,9,05870,Match-Mailable\n",
      "\n"
     ]
    },
    {
     "ename": "KeyboardInterrupt",
     "evalue": "",
     "output_type": "error",
     "traceback": [
      "\u001b[0;31m---------------------------------------------------------------------------\u001b[0m",
      "\u001b[0;31mKeyboardInterrupt\u001b[0m                         Traceback (most recent call last)",
      "\u001b[0;32m~/.local/lib/python3.5/site-packages/ipykernel/kernelbase.py\u001b[0m in \u001b[0;36m_input_request\u001b[0;34m(self, prompt, ident, parent, password)\u001b[0m\n\u001b[1;32m    728\u001b[0m             \u001b[0;32mtry\u001b[0m\u001b[0;34m:\u001b[0m\u001b[0;34m\u001b[0m\u001b[0m\n\u001b[0;32m--> 729\u001b[0;31m                 \u001b[0mident\u001b[0m\u001b[0;34m,\u001b[0m \u001b[0mreply\u001b[0m \u001b[0;34m=\u001b[0m \u001b[0mself\u001b[0m\u001b[0;34m.\u001b[0m\u001b[0msession\u001b[0m\u001b[0;34m.\u001b[0m\u001b[0mrecv\u001b[0m\u001b[0;34m(\u001b[0m\u001b[0mself\u001b[0m\u001b[0;34m.\u001b[0m\u001b[0mstdin_socket\u001b[0m\u001b[0;34m,\u001b[0m \u001b[0;36m0\u001b[0m\u001b[0;34m)\u001b[0m\u001b[0;34m\u001b[0m\u001b[0m\n\u001b[0m\u001b[1;32m    730\u001b[0m             \u001b[0;32mexcept\u001b[0m \u001b[0mException\u001b[0m\u001b[0;34m:\u001b[0m\u001b[0;34m\u001b[0m\u001b[0m\n",
      "\u001b[0;32m~/.local/lib/python3.5/site-packages/jupyter_client/session.py\u001b[0m in \u001b[0;36mrecv\u001b[0;34m(self, socket, mode, content, copy)\u001b[0m\n\u001b[1;32m    802\u001b[0m         \u001b[0;32mtry\u001b[0m\u001b[0;34m:\u001b[0m\u001b[0;34m\u001b[0m\u001b[0m\n\u001b[0;32m--> 803\u001b[0;31m             \u001b[0mmsg_list\u001b[0m \u001b[0;34m=\u001b[0m \u001b[0msocket\u001b[0m\u001b[0;34m.\u001b[0m\u001b[0mrecv_multipart\u001b[0m\u001b[0;34m(\u001b[0m\u001b[0mmode\u001b[0m\u001b[0;34m,\u001b[0m \u001b[0mcopy\u001b[0m\u001b[0;34m=\u001b[0m\u001b[0mcopy\u001b[0m\u001b[0;34m)\u001b[0m\u001b[0;34m\u001b[0m\u001b[0m\n\u001b[0m\u001b[1;32m    804\u001b[0m         \u001b[0;32mexcept\u001b[0m \u001b[0mzmq\u001b[0m\u001b[0;34m.\u001b[0m\u001b[0mZMQError\u001b[0m \u001b[0;32mas\u001b[0m \u001b[0me\u001b[0m\u001b[0;34m:\u001b[0m\u001b[0;34m\u001b[0m\u001b[0m\n",
      "\u001b[0;32m~/.local/lib/python3.5/site-packages/zmq/sugar/socket.py\u001b[0m in \u001b[0;36mrecv_multipart\u001b[0;34m(self, flags, copy, track)\u001b[0m\n\u001b[1;32m    394\u001b[0m         \"\"\"\n\u001b[0;32m--> 395\u001b[0;31m         \u001b[0mparts\u001b[0m \u001b[0;34m=\u001b[0m \u001b[0;34m[\u001b[0m\u001b[0mself\u001b[0m\u001b[0;34m.\u001b[0m\u001b[0mrecv\u001b[0m\u001b[0;34m(\u001b[0m\u001b[0mflags\u001b[0m\u001b[0;34m,\u001b[0m \u001b[0mcopy\u001b[0m\u001b[0;34m=\u001b[0m\u001b[0mcopy\u001b[0m\u001b[0;34m,\u001b[0m \u001b[0mtrack\u001b[0m\u001b[0;34m=\u001b[0m\u001b[0mtrack\u001b[0m\u001b[0;34m)\u001b[0m\u001b[0;34m]\u001b[0m\u001b[0;34m\u001b[0m\u001b[0m\n\u001b[0m\u001b[1;32m    396\u001b[0m         \u001b[0;31m# have first part already, only loop while more to receive\u001b[0m\u001b[0;34m\u001b[0m\u001b[0;34m\u001b[0m\u001b[0m\n",
      "\u001b[0;32mzmq/backend/cython/socket.pyx\u001b[0m in \u001b[0;36mzmq.backend.cython.socket.Socket.recv\u001b[0;34m()\u001b[0m\n",
      "\u001b[0;32mzmq/backend/cython/socket.pyx\u001b[0m in \u001b[0;36mzmq.backend.cython.socket.Socket.recv\u001b[0;34m()\u001b[0m\n",
      "\u001b[0;32mzmq/backend/cython/socket.pyx\u001b[0m in \u001b[0;36mzmq.backend.cython.socket._recv_copy\u001b[0;34m()\u001b[0m\n",
      "\u001b[0;32m~/.local/lib/python3.5/site-packages/zmq/backend/cython/checkrc.pxd\u001b[0m in \u001b[0;36mzmq.backend.cython.checkrc._check_rc\u001b[0;34m()\u001b[0m\n",
      "\u001b[0;31mKeyboardInterrupt\u001b[0m: ",
      "\nDuring handling of the above exception, another exception occurred:\n",
      "\u001b[0;31mKeyboardInterrupt\u001b[0m                         Traceback (most recent call last)",
      "\u001b[0;32m<ipython-input-3-97eec09fd87b>\u001b[0m in \u001b[0;36m<module>\u001b[0;34m()\u001b[0m\n\u001b[1;32m      1\u001b[0m \u001b[0mLOC\u001b[0m \u001b[0;34m=\u001b[0m \u001b[0;34m\"/mnt/disks/data/infousa/\"\u001b[0m\u001b[0;34m\u001b[0m\u001b[0m\n\u001b[1;32m      2\u001b[0m \u001b[0mFILE\u001b[0m \u001b[0;34m=\u001b[0m \u001b[0;34m\"3c smarty_final.csv\"\u001b[0m\u001b[0;34m\u001b[0m\u001b[0m\n\u001b[0;32m----> 3\u001b[0;31m \u001b[0mdisplayRaw\u001b[0m\u001b[0;34m(\u001b[0m\u001b[0mLOC\u001b[0m\u001b[0;34m+\u001b[0m\u001b[0mFILE\u001b[0m\u001b[0;34m)\u001b[0m\u001b[0;34m\u001b[0m\u001b[0m\n\u001b[0m",
      "\u001b[0;32m<ipython-input-2-f0144f7f628f>\u001b[0m in \u001b[0;36mdisplayRaw\u001b[0;34m(input_file)\u001b[0m\n\u001b[1;32m      9\u001b[0m         \u001b[0;32mfor\u001b[0m \u001b[0mrec\u001b[0m \u001b[0;32min\u001b[0m \u001b[0mf\u001b[0m\u001b[0;34m:\u001b[0m\u001b[0;34m\u001b[0m\u001b[0m\n\u001b[1;32m     10\u001b[0m             \u001b[0mprint\u001b[0m\u001b[0;34m(\u001b[0m\u001b[0mrec\u001b[0m\u001b[0;34m)\u001b[0m\u001b[0;34m\u001b[0m\u001b[0m\n\u001b[0;32m---> 11\u001b[0;31m             \u001b[0minput\u001b[0m\u001b[0;34m(\u001b[0m\u001b[0;34m)\u001b[0m\u001b[0;34m\u001b[0m\u001b[0m\n\u001b[0m\u001b[1;32m     12\u001b[0m \u001b[0;34m\u001b[0m\u001b[0m\n\u001b[1;32m     13\u001b[0m \u001b[0;32mdef\u001b[0m \u001b[0mdisplayFields\u001b[0m\u001b[0;34m(\u001b[0m\u001b[0minput_file\u001b[0m\u001b[0;34m,\u001b[0m \u001b[0mdelim\u001b[0m\u001b[0;34m)\u001b[0m\u001b[0;34m:\u001b[0m\u001b[0;34m\u001b[0m\u001b[0m\n",
      "\u001b[0;32m~/.local/lib/python3.5/site-packages/ipykernel/kernelbase.py\u001b[0m in \u001b[0;36mraw_input\u001b[0;34m(self, prompt)\u001b[0m\n\u001b[1;32m    702\u001b[0m             \u001b[0mself\u001b[0m\u001b[0;34m.\u001b[0m\u001b[0m_parent_ident\u001b[0m\u001b[0;34m,\u001b[0m\u001b[0;34m\u001b[0m\u001b[0m\n\u001b[1;32m    703\u001b[0m             \u001b[0mself\u001b[0m\u001b[0;34m.\u001b[0m\u001b[0m_parent_header\u001b[0m\u001b[0;34m,\u001b[0m\u001b[0;34m\u001b[0m\u001b[0m\n\u001b[0;32m--> 704\u001b[0;31m             \u001b[0mpassword\u001b[0m\u001b[0;34m=\u001b[0m\u001b[0;32mFalse\u001b[0m\u001b[0;34m,\u001b[0m\u001b[0;34m\u001b[0m\u001b[0m\n\u001b[0m\u001b[1;32m    705\u001b[0m         )\n\u001b[1;32m    706\u001b[0m \u001b[0;34m\u001b[0m\u001b[0m\n",
      "\u001b[0;32m~/.local/lib/python3.5/site-packages/ipykernel/kernelbase.py\u001b[0m in \u001b[0;36m_input_request\u001b[0;34m(self, prompt, ident, parent, password)\u001b[0m\n\u001b[1;32m    732\u001b[0m             \u001b[0;32mexcept\u001b[0m \u001b[0mKeyboardInterrupt\u001b[0m\u001b[0;34m:\u001b[0m\u001b[0;34m\u001b[0m\u001b[0m\n\u001b[1;32m    733\u001b[0m                 \u001b[0;31m# re-raise KeyboardInterrupt, to truncate traceback\u001b[0m\u001b[0;34m\u001b[0m\u001b[0;34m\u001b[0m\u001b[0m\n\u001b[0;32m--> 734\u001b[0;31m                 \u001b[0;32mraise\u001b[0m \u001b[0mKeyboardInterrupt\u001b[0m\u001b[0;34m\u001b[0m\u001b[0m\n\u001b[0m\u001b[1;32m    735\u001b[0m             \u001b[0;32melse\u001b[0m\u001b[0;34m:\u001b[0m\u001b[0;34m\u001b[0m\u001b[0m\n\u001b[1;32m    736\u001b[0m                 \u001b[0;32mbreak\u001b[0m\u001b[0;34m\u001b[0m\u001b[0m\n",
      "\u001b[0;31mKeyboardInterrupt\u001b[0m: "
     ]
    }
   ],
   "source": [
    "LOC = \"/mnt/disks/data/infousa/\"\n",
    "FILE = \"3c smarty_final.csv\"\n",
    "displayRaw(LOC+FILE)"
   ]
  },
  {
   "cell_type": "code",
   "execution_count": null,
   "metadata": {},
   "outputs": [
    {
     "name": "stdout",
     "output_type": "stream",
     "text": [
      "Age1 :  50\n",
      "Age2 :  38\n",
      "Age3 :    \n",
      "Age4 :    \n",
      "DNC1 :   \n",
      "DNM1 :   \n",
      "Ethnic1 :  W\n",
      "First Name1 :  MICHEL\n",
      "First Name2 :  GABRIELLE\n",
      "First Name3 :  \n",
      "First Name4 :  \n",
      "Gender1 :  M\n",
      "Gender2 :  F\n",
      "Gender3 :   \n",
      "Gender4 :   \n",
      "Last Name1 :  AUBE\n",
      "Last Name2 :  AUBE\n",
      "Last Name3 :  \n",
      "Last Name4 :  \n",
      "Marital status1 :  M\n",
      "Marital status2 :  M\n",
      "Marital status3 :   \n",
      "Marital status4 :   \n",
      "Religion1 :  C\n",
      "address_type :  S\n",
      "age :  G\n",
      "age_0_3 :  N\n",
      "age_13_17 :  N\n",
      "age_4_7 :  N\n",
      "age_8_12 :  N\n",
      "ailment_cholesterol :  N\n",
      "ailment_diabetes :  N\n",
      "child_dob_1 :          \n",
      "child_dob_2 :          \n",
      "child_dob_3 :          \n",
      "child_dob_4 :          \n",
      "child_dob_5 :          \n",
      "city :  White River Junction\n",
      "cluster :  05\n",
      "county :  Windsor\n",
      "density :     475.11\n",
      "discretionary_income :  91\n",
      "dm_response :  Y\n",
      "dm_response_ever :  Y\n",
      "dm_response_recent :  N\n",
      "dma :  523\n",
      "email_presence :  N\n",
      "expendable_income :  B\n",
      "full_name :  MICHEL  AUBE\n",
      "fullfillment :  M\n",
      "heavy_coupon :  6\n",
      "heavy_family_restaurant :  1\n",
      "heavy_frozen_buyer :  0\n",
      "hh_income :  4\n",
      "hh_num :  000400603974\n",
      "home_age :  012\n",
      "home_equity :  K\n",
      "home_sale_dt :  20030615\n",
      "home_size :  00000\n",
      "home_val_code :  K\n",
      "home_value :  00315\n",
      "income :  L\n",
      "income_producing_assets :  E\n",
      "latitude :  0043.694087\n",
      "length_of_residence :  15\n",
      "lifestyle_gambling :  0\n",
      "lifestyle_gambling_interest :  N\n",
      "longitude :  -0072.345168\n",
      "lot_size :  05870\n",
      "ltv :  H\n",
      "lux_hotel :  7\n",
      "luxury_car_buyer :  2\n",
      "mail_order_buyer :  Y\n",
      "marital_status :  7\n",
      "mortgage_amount :   \n",
      "mortgage_expense :  1283\n",
      "mortgage_year :  2003\n",
      "net_worth :  H\n",
      "nielsen_rank :  C\n",
      "nielsen_region :  E\n",
      "num_adults :  2\n",
      "num_hh :  2\n",
      "num_kids :  0\n",
      "owner_type :  9\n",
      "potential_investor :  03\n",
      "ppir :  K\n",
      "presence_children :  N\n",
      "presence_grandparents :  N\n",
      "purchasing_power :  145000\n",
      "purchasing_power_income :  3\n",
      "revolver_model :  08\n",
      "room_count :  08\n",
      "second_property_ind :  N\n",
      "second_property_value :  00000\n",
      "smarty :  Match-Mailable\n",
      "state :  VT\n",
      "street :  2171 Dothan Rd\n",
      "sub_family :  N\n",
      "supercluster :  3\n",
      "surname_count :  1\n",
      "suv_buyer :  9\n",
      "vacation_expense :  4\n",
      "zip :  05001-9378\n",
      "zip4 :  9378\n"
     ]
    }
   ],
   "source": [
    "LOC = \"/mnt/disks/data/infousa/\"\n",
    "FILE = \"3c smarty_final.csv\"\n",
    "displayFields(LOC+FILE, \",\")"
   ]
  },
  {
   "cell_type": "code",
   "execution_count": null,
   "metadata": {},
   "outputs": [],
   "source": []
  }
 ],
 "metadata": {
  "kernelspec": {
   "display_name": "Python 3",
   "language": "python",
   "name": "python3"
  },
  "language_info": {
   "codemirror_mode": {
    "name": "ipython",
    "version": 3
   },
   "file_extension": ".py",
   "mimetype": "text/x-python",
   "name": "python",
   "nbconvert_exporter": "python",
   "pygments_lexer": "ipython3",
   "version": "3.5.2"
  }
 },
 "nbformat": 4,
 "nbformat_minor": 2
}
